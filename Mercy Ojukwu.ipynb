{
 "cells": [
  {
   "cell_type": "code",
   "execution_count": 2,
   "id": "21623830-8d7c-4eb2-8f11-07336a7f5a16",
   "metadata": {},
   "outputs": [],
   "source": [
    "import pandas as pd\n",
    "import numpy as np\n",
    "import matplotlib.pyplot as plt"
   ]
  },
  {
   "cell_type": "code",
   "execution_count": 3,
   "id": "24477572-adbe-4cdd-a8d9-b8d01fb38faf",
   "metadata": {},
   "outputs": [
    {
     "data": {
      "text/html": [
       "<div>\n",
       "<style scoped>\n",
       "    .dataframe tbody tr th:only-of-type {\n",
       "        vertical-align: middle;\n",
       "    }\n",
       "\n",
       "    .dataframe tbody tr th {\n",
       "        vertical-align: top;\n",
       "    }\n",
       "\n",
       "    .dataframe thead th {\n",
       "        text-align: right;\n",
       "    }\n",
       "</style>\n",
       "<table border=\"1\" class=\"dataframe\">\n",
       "  <thead>\n",
       "    <tr style=\"text-align: right;\">\n",
       "      <th></th>\n",
       "      <th>TransactionID</th>\n",
       "      <th>Date</th>\n",
       "      <th>City</th>\n",
       "      <th>CustomerID</th>\n",
       "      <th>CustomerType</th>\n",
       "      <th>Category</th>\n",
       "      <th>UnitsSold</th>\n",
       "      <th>UnitPrice</th>\n",
       "      <th>Revenue</th>\n",
       "      <th>Discount</th>\n",
       "      <th>SalesRep</th>\n",
       "    </tr>\n",
       "  </thead>\n",
       "  <tbody>\n",
       "    <tr>\n",
       "      <th>0</th>\n",
       "      <td>T001</td>\n",
       "      <td>2024-01-15</td>\n",
       "      <td>Lagos</td>\n",
       "      <td>C001</td>\n",
       "      <td>New</td>\n",
       "      <td>Electronics</td>\n",
       "      <td>2</td>\n",
       "      <td>150000</td>\n",
       "      <td>300000</td>\n",
       "      <td>5000</td>\n",
       "      <td>Chuka Obasi</td>\n",
       "    </tr>\n",
       "    <tr>\n",
       "      <th>1</th>\n",
       "      <td>T002</td>\n",
       "      <td>2024-01-18</td>\n",
       "      <td>Abuja</td>\n",
       "      <td>C002</td>\n",
       "      <td>Returning</td>\n",
       "      <td>Appliances</td>\n",
       "      <td>1</td>\n",
       "      <td>85000</td>\n",
       "      <td>85000</td>\n",
       "      <td>0</td>\n",
       "      <td>Mary Felix</td>\n",
       "    </tr>\n",
       "    <tr>\n",
       "      <th>2</th>\n",
       "      <td>T003</td>\n",
       "      <td>2024-01-20</td>\n",
       "      <td>Port Harcourt</td>\n",
       "      <td>C003</td>\n",
       "      <td>New</td>\n",
       "      <td>Accessories</td>\n",
       "      <td>4</td>\n",
       "      <td>5000</td>\n",
       "      <td>20000</td>\n",
       "      <td>200</td>\n",
       "      <td>Abdul Salim</td>\n",
       "    </tr>\n",
       "    <tr>\n",
       "      <th>3</th>\n",
       "      <td>T004</td>\n",
       "      <td>2024-01-21</td>\n",
       "      <td>Lagos</td>\n",
       "      <td>C004</td>\n",
       "      <td>Returning</td>\n",
       "      <td>Electronics</td>\n",
       "      <td>1</td>\n",
       "      <td>160000</td>\n",
       "      <td>160000</td>\n",
       "      <td>3000</td>\n",
       "      <td>Chuka Obasi</td>\n",
       "    </tr>\n",
       "    <tr>\n",
       "      <th>4</th>\n",
       "      <td>T005</td>\n",
       "      <td>2024-02-01</td>\n",
       "      <td>Kano</td>\n",
       "      <td>C005</td>\n",
       "      <td>New</td>\n",
       "      <td>Appliances</td>\n",
       "      <td>2</td>\n",
       "      <td>90000</td>\n",
       "      <td>180000</td>\n",
       "      <td>4000</td>\n",
       "      <td>Mary Felix</td>\n",
       "    </tr>\n",
       "    <tr>\n",
       "      <th>...</th>\n",
       "      <td>...</td>\n",
       "      <td>...</td>\n",
       "      <td>...</td>\n",
       "      <td>...</td>\n",
       "      <td>...</td>\n",
       "      <td>...</td>\n",
       "      <td>...</td>\n",
       "      <td>...</td>\n",
       "      <td>...</td>\n",
       "      <td>...</td>\n",
       "      <td>...</td>\n",
       "    </tr>\n",
       "    <tr>\n",
       "      <th>105</th>\n",
       "      <td>T106</td>\n",
       "      <td>2024-03-05</td>\n",
       "      <td>Lagos</td>\n",
       "      <td>C046</td>\n",
       "      <td>New</td>\n",
       "      <td>Electronics</td>\n",
       "      <td>2</td>\n",
       "      <td>155000</td>\n",
       "      <td>310000</td>\n",
       "      <td>500</td>\n",
       "      <td>Abdul Salim</td>\n",
       "    </tr>\n",
       "    <tr>\n",
       "      <th>106</th>\n",
       "      <td>T107</td>\n",
       "      <td>2024-10-23</td>\n",
       "      <td>Port Harcourt</td>\n",
       "      <td>C061</td>\n",
       "      <td>Returning</td>\n",
       "      <td>Electronics</td>\n",
       "      <td>2</td>\n",
       "      <td>155000</td>\n",
       "      <td>310000</td>\n",
       "      <td>4000</td>\n",
       "      <td>Mary Felix</td>\n",
       "    </tr>\n",
       "    <tr>\n",
       "      <th>107</th>\n",
       "      <td>T108</td>\n",
       "      <td>2024-09-08</td>\n",
       "      <td>Port Harcourt</td>\n",
       "      <td>C070</td>\n",
       "      <td>New</td>\n",
       "      <td>Accessories</td>\n",
       "      <td>1</td>\n",
       "      <td>5500</td>\n",
       "      <td>5500</td>\n",
       "      <td>500</td>\n",
       "      <td>Mary Felix</td>\n",
       "    </tr>\n",
       "    <tr>\n",
       "      <th>108</th>\n",
       "      <td>T109</td>\n",
       "      <td>2024-02-10</td>\n",
       "      <td>Kano</td>\n",
       "      <td>C135</td>\n",
       "      <td>New</td>\n",
       "      <td>Electronics</td>\n",
       "      <td>2</td>\n",
       "      <td>150000</td>\n",
       "      <td>300000</td>\n",
       "      <td>200</td>\n",
       "      <td>Chuka Obasi</td>\n",
       "    </tr>\n",
       "    <tr>\n",
       "      <th>109</th>\n",
       "      <td>T110</td>\n",
       "      <td>2024-11-08</td>\n",
       "      <td>Lagos</td>\n",
       "      <td>C113</td>\n",
       "      <td>New</td>\n",
       "      <td>Electronics</td>\n",
       "      <td>2</td>\n",
       "      <td>162000</td>\n",
       "      <td>324000</td>\n",
       "      <td>7000</td>\n",
       "      <td>Mary Felix</td>\n",
       "    </tr>\n",
       "  </tbody>\n",
       "</table>\n",
       "<p>110 rows × 11 columns</p>\n",
       "</div>"
      ],
      "text/plain": [
       "    TransactionID        Date           City CustomerID CustomerType  \\\n",
       "0            T001  2024-01-15          Lagos       C001          New   \n",
       "1            T002  2024-01-18          Abuja       C002    Returning   \n",
       "2            T003  2024-01-20  Port Harcourt       C003          New   \n",
       "3            T004  2024-01-21          Lagos       C004    Returning   \n",
       "4            T005  2024-02-01           Kano       C005          New   \n",
       "..            ...         ...            ...        ...          ...   \n",
       "105          T106  2024-03-05          Lagos       C046          New   \n",
       "106          T107  2024-10-23  Port Harcourt       C061    Returning   \n",
       "107          T108  2024-09-08  Port Harcourt       C070          New   \n",
       "108          T109  2024-02-10           Kano       C135          New   \n",
       "109          T110  2024-11-08          Lagos       C113          New   \n",
       "\n",
       "        Category  UnitsSold  UnitPrice  Revenue  Discount     SalesRep  \n",
       "0    Electronics          2     150000   300000      5000  Chuka Obasi  \n",
       "1     Appliances          1      85000    85000         0   Mary Felix  \n",
       "2    Accessories          4       5000    20000       200  Abdul Salim  \n",
       "3    Electronics          1     160000   160000      3000  Chuka Obasi  \n",
       "4     Appliances          2      90000   180000      4000   Mary Felix  \n",
       "..           ...        ...        ...      ...       ...          ...  \n",
       "105  Electronics          2     155000   310000       500  Abdul Salim  \n",
       "106  Electronics          2     155000   310000      4000   Mary Felix  \n",
       "107  Accessories          1       5500     5500       500   Mary Felix  \n",
       "108  Electronics          2     150000   300000       200  Chuka Obasi  \n",
       "109  Electronics          2     162000   324000      7000   Mary Felix  \n",
       "\n",
       "[110 rows x 11 columns]"
      ]
     },
     "execution_count": 3,
     "metadata": {},
     "output_type": "execute_result"
    }
   ],
   "source": [
    "novaretail=pd.read_csv(\"sales_transactions.csv\")\n",
    "novaretail"
   ]
  },
  {
   "cell_type": "code",
   "execution_count": 4,
   "id": "3d2b5d05-ea0a-47af-972e-60e98d711201",
   "metadata": {},
   "outputs": [
    {
     "data": {
      "text/plain": [
       "TransactionID    object\n",
       "Date             object\n",
       "City             object\n",
       "CustomerID       object\n",
       "CustomerType     object\n",
       "Category         object\n",
       "UnitsSold         int64\n",
       "UnitPrice         int64\n",
       "Revenue           int64\n",
       "Discount          int64\n",
       "SalesRep         object\n",
       "dtype: object"
      ]
     },
     "execution_count": 4,
     "metadata": {},
     "output_type": "execute_result"
    }
   ],
   "source": [
    "novaretail.dtypes"
   ]
  },
  {
   "cell_type": "code",
   "execution_count": 5,
   "id": "90f3c5ac-7194-43dc-bc46-02ff30e6370d",
   "metadata": {},
   "outputs": [
    {
     "data": {
      "text/plain": [
       "0     2024-01-15\n",
       "1     2024-01-18\n",
       "2     2024-01-20\n",
       "3     2024-01-21\n",
       "4     2024-02-01\n",
       "         ...    \n",
       "105   2024-03-05\n",
       "106   2024-10-23\n",
       "107   2024-09-08\n",
       "108   2024-02-10\n",
       "109   2024-11-08\n",
       "Name: Date, Length: 110, dtype: datetime64[ns]"
      ]
     },
     "execution_count": 5,
     "metadata": {},
     "output_type": "execute_result"
    }
   ],
   "source": [
    "novaretail[\"Date\"].astype(\"datetime64[ns]\")"
   ]
  },
  {
   "cell_type": "code",
   "execution_count": 6,
   "id": "733899d7-ea53-41d1-a4fb-262a0acd57c4",
   "metadata": {},
   "outputs": [],
   "source": [
    "novaretail[\"Date\"]=novaretail[\"Date\"].astype(\"datetime64[ns]\")"
   ]
  },
  {
   "cell_type": "code",
   "execution_count": 7,
   "id": "ec21bd68-9359-4bd3-9615-7f3f51749e51",
   "metadata": {},
   "outputs": [
    {
     "data": {
      "text/plain": [
       "np.int64(29521000)"
      ]
     },
     "execution_count": 7,
     "metadata": {},
     "output_type": "execute_result"
    }
   ],
   "source": [
    "#1. what is the total revenue generated in the dataset\n",
    "novaretail[\"Revenue\"].sum()"
   ]
  },
  {
   "cell_type": "code",
   "execution_count": 8,
   "id": "e9f3ddab-dbb8-4738-af05-eadd6c55961e",
   "metadata": {},
   "outputs": [
    {
     "data": {
      "text/plain": [
       "110"
      ]
     },
     "execution_count": 8,
     "metadata": {},
     "output_type": "execute_result"
    }
   ],
   "source": [
    "#2. How many total transactions were recorded?\n",
    "novaretail[\"TransactionID\"].nunique()"
   ]
  },
  {
   "cell_type": "code",
   "execution_count": 10,
   "id": "77180541-1720-4d9d-becd-0a86d0add625",
   "metadata": {},
   "outputs": [
    {
     "data": {
      "text/plain": [
       "110"
      ]
     },
     "execution_count": 10,
     "metadata": {},
     "output_type": "execute_result"
    }
   ],
   "source": [
    "# answer for no 2 you can also use\n",
    "len(novaretail[\"TransactionID\"])"
   ]
  },
  {
   "cell_type": "code",
   "execution_count": 11,
   "id": "c53e20d4-a31f-4f56-82fe-081dbd1b100d",
   "metadata": {},
   "outputs": [
    {
     "data": {
      "text/plain": [
       "77"
      ]
     },
     "execution_count": 11,
     "metadata": {},
     "output_type": "execute_result"
    }
   ],
   "source": [
    "#3. How many distinct customers made purchases?\n",
    "novaretail[\"CustomerID\"].nunique()"
   ]
  },
  {
   "cell_type": "code",
   "execution_count": 12,
   "id": "eca4a597-559d-4c2a-81c7-374b58b4d9ce",
   "metadata": {},
   "outputs": [
    {
     "data": {
      "text/plain": [
       "np.int64(9285500)"
      ]
     },
     "execution_count": 12,
     "metadata": {},
     "output_type": "execute_result"
    }
   ],
   "source": [
    "#4. What is the total revenue generated from Lagos alone?\n",
    "novaretail[novaretail[\"City\"]=='Lagos'] ['Revenue'].sum()"
   ]
  },
  {
   "cell_type": "code",
   "execution_count": 46,
   "id": "931adea0-20d8-4cc6-9454-6ed381e66551",
   "metadata": {},
   "outputs": [
    {
     "data": {
      "text/plain": [
       "np.int64(7)"
      ]
     },
     "execution_count": 46,
     "metadata": {},
     "output_type": "execute_result"
    }
   ],
   "source": [
    "#5. How many units of \"Accessories\" were sold in Abuja?\n",
    "novaretail[(novaretail['City'] == 'Abuja') & (novaretail['Category'] == 'Accessories')]['UnitsSold'].count()\n",
    "# i made a correction here (i changed my function from sum to counts after going through the question)"
   ]
  },
  {
   "cell_type": "code",
   "execution_count": 14,
   "id": "94a9ccb1-8cf0-44c9-b333-025b6fce6f12",
   "metadata": {},
   "outputs": [
    {
     "data": {
      "text/plain": [
       "np.float64(3248.181818181818)"
      ]
     },
     "execution_count": 14,
     "metadata": {},
     "output_type": "execute_result"
    }
   ],
   "source": [
    "#6. What is the average discount offered across all transactions?\n",
    "novaretail['Discount'].mean()"
   ]
  },
  {
   "cell_type": "code",
   "execution_count": 15,
   "id": "239630a3-7d7e-424a-a47c-538fedbc9011",
   "metadata": {},
   "outputs": [],
   "source": [
    "#7. What was the revenue for February 2024?\n",
    "novaretail['Date'] = pd.to_datetime(novaretail['Date'])\n",
    "february_2024_revenue = novaretail[(novaretail['Date'].dt.month == 2) & (novaretail['Date'].dt.year == 2024)]['Revenue'].sum()"
   ]
  },
  {
   "cell_type": "code",
   "execution_count": 16,
   "id": "dd309606-83c6-47a8-ac89-6633918a77bc",
   "metadata": {},
   "outputs": [
    {
     "data": {
      "text/plain": [
       "np.int64(3855000)"
      ]
     },
     "execution_count": 16,
     "metadata": {},
     "output_type": "execute_result"
    }
   ],
   "source": [
    "february_2024_revenue"
   ]
  },
  {
   "cell_type": "code",
   "execution_count": 17,
   "id": "ffdef695-5494-42ce-936c-d77fda9bb75f",
   "metadata": {},
   "outputs": [],
   "source": [
    "#8. Which month had the highest sales revenue?\n",
    "monthly_revenue = novaretail.groupby(novaretail[\"Date\"].dt.strftime(\"%Y-%m\"))[\"Revenue\"].sum().reset_index()\n",
    "top_month_row = monthly_revenue.loc[monthly_revenue[\"Revenue\"].idxmax()]\n",
    "top_month, top_month_revenue = top_month_row[\"Date\"], top_month_row[\"Revenue\"]\n"
   ]
  },
  {
   "cell_type": "code",
   "execution_count": 18,
   "id": "317c0c73-1434-49af-953b-f787f1f59f8d",
   "metadata": {},
   "outputs": [
    {
     "data": {
      "text/plain": [
       "('2024-09', np.int64(4744500))"
      ]
     },
     "execution_count": 18,
     "metadata": {},
     "output_type": "execute_result"
    }
   ],
   "source": [
    "top_month, top_month_revenue"
   ]
  },
  {
   "cell_type": "code",
   "execution_count": 19,
   "id": "84d444ed-126f-41b5-9c2d-fa29706c0b85",
   "metadata": {},
   "outputs": [
    {
     "data": {
      "text/html": [
       "<div>\n",
       "<style scoped>\n",
       "    .dataframe tbody tr th:only-of-type {\n",
       "        vertical-align: middle;\n",
       "    }\n",
       "\n",
       "    .dataframe tbody tr th {\n",
       "        vertical-align: top;\n",
       "    }\n",
       "\n",
       "    .dataframe thead th {\n",
       "        text-align: right;\n",
       "    }\n",
       "</style>\n",
       "<table border=\"1\" class=\"dataframe\">\n",
       "  <thead>\n",
       "    <tr style=\"text-align: right;\">\n",
       "      <th></th>\n",
       "      <th>Date</th>\n",
       "      <th>Revenue</th>\n",
       "    </tr>\n",
       "  </thead>\n",
       "  <tbody>\n",
       "    <tr>\n",
       "      <th>0</th>\n",
       "      <td>2024-01</td>\n",
       "      <td>2943000</td>\n",
       "    </tr>\n",
       "    <tr>\n",
       "      <th>1</th>\n",
       "      <td>2024-02</td>\n",
       "      <td>3855000</td>\n",
       "    </tr>\n",
       "    <tr>\n",
       "      <th>2</th>\n",
       "      <td>2024-03</td>\n",
       "      <td>2184500</td>\n",
       "    </tr>\n",
       "    <tr>\n",
       "      <th>3</th>\n",
       "      <td>2024-04</td>\n",
       "      <td>1559500</td>\n",
       "    </tr>\n",
       "    <tr>\n",
       "      <th>4</th>\n",
       "      <td>2024-05</td>\n",
       "      <td>2484500</td>\n",
       "    </tr>\n",
       "    <tr>\n",
       "      <th>5</th>\n",
       "      <td>2024-06</td>\n",
       "      <td>1083000</td>\n",
       "    </tr>\n",
       "    <tr>\n",
       "      <th>6</th>\n",
       "      <td>2024-07</td>\n",
       "      <td>1340000</td>\n",
       "    </tr>\n",
       "    <tr>\n",
       "      <th>7</th>\n",
       "      <td>2024-08</td>\n",
       "      <td>552500</td>\n",
       "    </tr>\n",
       "    <tr>\n",
       "      <th>8</th>\n",
       "      <td>2024-09</td>\n",
       "      <td>4744500</td>\n",
       "    </tr>\n",
       "    <tr>\n",
       "      <th>9</th>\n",
       "      <td>2024-10</td>\n",
       "      <td>2739000</td>\n",
       "    </tr>\n",
       "    <tr>\n",
       "      <th>10</th>\n",
       "      <td>2024-11</td>\n",
       "      <td>2009500</td>\n",
       "    </tr>\n",
       "    <tr>\n",
       "      <th>11</th>\n",
       "      <td>2024-12</td>\n",
       "      <td>3889000</td>\n",
       "    </tr>\n",
       "    <tr>\n",
       "      <th>12</th>\n",
       "      <td>2025-01</td>\n",
       "      <td>137000</td>\n",
       "    </tr>\n",
       "  </tbody>\n",
       "</table>\n",
       "</div>"
      ],
      "text/plain": [
       "       Date  Revenue\n",
       "0   2024-01  2943000\n",
       "1   2024-02  3855000\n",
       "2   2024-03  2184500\n",
       "3   2024-04  1559500\n",
       "4   2024-05  2484500\n",
       "5   2024-06  1083000\n",
       "6   2024-07  1340000\n",
       "7   2024-08   552500\n",
       "8   2024-09  4744500\n",
       "9   2024-10  2739000\n",
       "10  2024-11  2009500\n",
       "11  2024-12  3889000\n",
       "12  2025-01   137000"
      ]
     },
     "execution_count": 19,
     "metadata": {},
     "output_type": "execute_result"
    }
   ],
   "source": [
    "# 9. Create a measure to calculate monthly revenue trend\n",
    "monthly_revenue_trend = monthly_revenue.copy()\n",
    "monthly_revenue_trend\n",
    "# Already created above"
   ]
  },
  {
   "cell_type": "code",
   "execution_count": 20,
   "id": "e639a8a4-a9f3-4547-ac22-3ba094486ea7",
   "metadata": {},
   "outputs": [
    {
     "data": {
      "text/html": [
       "<div>\n",
       "<style scoped>\n",
       "    .dataframe tbody tr th:only-of-type {\n",
       "        vertical-align: middle;\n",
       "    }\n",
       "\n",
       "    .dataframe tbody tr th {\n",
       "        vertical-align: top;\n",
       "    }\n",
       "\n",
       "    .dataframe thead th {\n",
       "        text-align: right;\n",
       "    }\n",
       "</style>\n",
       "<table border=\"1\" class=\"dataframe\">\n",
       "  <thead>\n",
       "    <tr style=\"text-align: right;\">\n",
       "      <th></th>\n",
       "      <th>CustomerType</th>\n",
       "      <th>Revenue</th>\n",
       "    </tr>\n",
       "  </thead>\n",
       "  <tbody>\n",
       "    <tr>\n",
       "      <th>0</th>\n",
       "      <td>New</td>\n",
       "      <td>12027000</td>\n",
       "    </tr>\n",
       "    <tr>\n",
       "      <th>1</th>\n",
       "      <td>Returning</td>\n",
       "      <td>17494000</td>\n",
       "    </tr>\n",
       "  </tbody>\n",
       "</table>\n",
       "</div>"
      ],
      "text/plain": [
       "  CustomerType   Revenue\n",
       "0          New  12027000\n",
       "1    Returning  17494000"
      ]
     },
     "execution_count": 20,
     "metadata": {},
     "output_type": "execute_result"
    }
   ],
   "source": [
    "#10. What is the revenue split between New and Returning customers?\n",
    "novaretail.groupby(\"CustomerType\")[\"Revenue\"].sum().reset_index()"
   ]
  },
  {
   "cell_type": "code",
   "execution_count": 21,
   "id": "1c1bc302-8e51-4f21-9bbd-2daca1b32e8c",
   "metadata": {},
   "outputs": [
    {
     "data": {
      "text/html": [
       "<div>\n",
       "<style scoped>\n",
       "    .dataframe tbody tr th:only-of-type {\n",
       "        vertical-align: middle;\n",
       "    }\n",
       "\n",
       "    .dataframe tbody tr th {\n",
       "        vertical-align: top;\n",
       "    }\n",
       "\n",
       "    .dataframe thead th {\n",
       "        text-align: right;\n",
       "    }\n",
       "</style>\n",
       "<table border=\"1\" class=\"dataframe\">\n",
       "  <thead>\n",
       "    <tr style=\"text-align: right;\">\n",
       "      <th></th>\n",
       "      <th>CustomerID</th>\n",
       "      <th>Revenue</th>\n",
       "    </tr>\n",
       "  </thead>\n",
       "  <tbody>\n",
       "    <tr>\n",
       "      <th>0</th>\n",
       "      <td>C001</td>\n",
       "      <td>119000.0</td>\n",
       "    </tr>\n",
       "    <tr>\n",
       "      <th>1</th>\n",
       "      <td>C002</td>\n",
       "      <td>85000.0</td>\n",
       "    </tr>\n",
       "    <tr>\n",
       "      <th>2</th>\n",
       "      <td>C003</td>\n",
       "      <td>20000.0</td>\n",
       "    </tr>\n",
       "    <tr>\n",
       "      <th>3</th>\n",
       "      <td>C004</td>\n",
       "      <td>160000.0</td>\n",
       "    </tr>\n",
       "    <tr>\n",
       "      <th>4</th>\n",
       "      <td>C005</td>\n",
       "      <td>180000.0</td>\n",
       "    </tr>\n",
       "    <tr>\n",
       "      <th>...</th>\n",
       "      <td>...</td>\n",
       "      <td>...</td>\n",
       "    </tr>\n",
       "    <tr>\n",
       "      <th>72</th>\n",
       "      <td>C138</td>\n",
       "      <td>316000.0</td>\n",
       "    </tr>\n",
       "    <tr>\n",
       "      <th>73</th>\n",
       "      <td>C140</td>\n",
       "      <td>575000.0</td>\n",
       "    </tr>\n",
       "    <tr>\n",
       "      <th>74</th>\n",
       "      <td>C143</td>\n",
       "      <td>540000.0</td>\n",
       "    </tr>\n",
       "    <tr>\n",
       "      <th>75</th>\n",
       "      <td>C144</td>\n",
       "      <td>717000.0</td>\n",
       "    </tr>\n",
       "    <tr>\n",
       "      <th>76</th>\n",
       "      <td>C145</td>\n",
       "      <td>324000.0</td>\n",
       "    </tr>\n",
       "  </tbody>\n",
       "</table>\n",
       "<p>77 rows × 2 columns</p>\n",
       "</div>"
      ],
      "text/plain": [
       "   CustomerID   Revenue\n",
       "0        C001  119000.0\n",
       "1        C002   85000.0\n",
       "2        C003   20000.0\n",
       "3        C004  160000.0\n",
       "4        C005  180000.0\n",
       "..        ...       ...\n",
       "72       C138  316000.0\n",
       "73       C140  575000.0\n",
       "74       C143  540000.0\n",
       "75       C144  717000.0\n",
       "76       C145  324000.0\n",
       "\n",
       "[77 rows x 2 columns]"
      ]
     },
     "execution_count": 21,
     "metadata": {},
     "output_type": "execute_result"
    }
   ],
   "source": [
    "#11. What is the average revenue per customer?\n",
    "average_revenue_per_customer=novaretail.groupby('CustomerID')['Revenue'].mean().reset_index()\n",
    "average_revenue_per_customer"
   ]
  },
  {
   "cell_type": "code",
   "execution_count": 22,
   "id": "de93e30a-28ce-4c73-b57e-7ae3771b4ab2",
   "metadata": {},
   "outputs": [
    {
     "data": {
      "text/plain": [
       "np.int64(23)"
      ]
     },
     "execution_count": 22,
     "metadata": {},
     "output_type": "execute_result"
    }
   ],
   "source": [
    "#12. How many customers bought more than once?\n",
    "customer_counts = novaretail[\"CustomerID\"].value_counts()\n",
    "customers_more_than_once = (customer_counts > 1).sum()\n",
    "customers_more_than_once"
   ]
  },
  {
   "cell_type": "code",
   "execution_count": 23,
   "id": "518fe98f-def4-422f-b8de-c82c8dd35153",
   "metadata": {},
   "outputs": [
    {
     "data": {
      "text/plain": [
       "np.int64(19149000)"
      ]
     },
     "execution_count": 23,
     "metadata": {},
     "output_type": "execute_result"
    }
   ],
   "source": [
    "#13. Which product category generated the most revenue?\n",
    "category_revenue = novaretail.groupby(\"Category\")[\"Revenue\"].sum().reset_index()\n",
    "top_category_row = category_revenue.loc[category_revenue[\"Revenue\"].idxmax()]\n",
    "top_category, top_category_revenue = top_category_row[\"Category\"], top_category_row[\"Revenue\"]\n",
    "top_category_revenue"
   ]
  },
  {
   "cell_type": "code",
   "execution_count": 24,
   "id": "0b50c8ea-db97-42c3-8a05-90581d705351",
   "metadata": {},
   "outputs": [
    {
     "data": {
      "text/plain": [
       "np.float64(156959.0163934426)"
      ]
     },
     "execution_count": 24,
     "metadata": {},
     "output_type": "execute_result"
    }
   ],
   "source": [
    "#14. What is the average revenue per unit for Electronics?\n",
    "electronics = novaretail[novaretail[\"Category\"] == \"Electronics\"]\n",
    "avg_revenue_per_unit_electronics = electronics[\"Revenue\"].sum() / electronics[\"UnitsSold\"].sum()\n",
    "avg_revenue_per_unit_electronics"
   ]
  },
  {
   "cell_type": "code",
   "execution_count": 25,
   "id": "96d01372-d255-4a4e-a003-b263e6dc400f",
   "metadata": {},
   "outputs": [
    {
     "data": {
      "text/plain": [
       "'Abdul Salim'"
      ]
     },
     "execution_count": 25,
     "metadata": {},
     "output_type": "execute_result"
    }
   ],
   "source": [
    "#15. Which sales rep generated the highest total revenue?\n",
    "top_sales_rep = novaretail.groupby(\"SalesRep\")[\"Revenue\"].sum().idxmax()\n",
    "top_sales_rep"
   ]
  },
  {
   "cell_type": "code",
   "execution_count": 26,
   "id": "45e1feaf-c263-4fe5-baeb-e9627a58d638",
   "metadata": {},
   "outputs": [
    {
     "data": {
      "text/plain": [
       "SalesRep\n",
       "Abdul Salim    134\n",
       "Chuka Obasi    110\n",
       "Mary Felix     113\n",
       "Name: UnitsSold, dtype: int64"
      ]
     },
     "execution_count": 26,
     "metadata": {},
     "output_type": "execute_result"
    }
   ],
   "source": [
    "#16. Calculate total units sold by each sales rep.\n",
    "units_by_sales_rep = novaretail.groupby(\"SalesRep\")[\"UnitsSold\"].sum()\n",
    "units_by_sales_rep"
   ]
  },
  {
   "cell_type": "code",
   "execution_count": 27,
   "id": "cc1ca701-5b5e-4f52-9c76-5fe132363ac5",
   "metadata": {},
   "outputs": [
    {
     "data": {
      "text/plain": [
       "np.int64(2563000)"
      ]
     },
     "execution_count": 27,
     "metadata": {},
     "output_type": "execute_result"
    }
   ],
   "source": [
    "#17. Calculates revenue from Lagos only if the customer is \"New\". (New customers only)\n",
    "lagos_new_revenue = novaretail[(novaretail[\"City\"] == \"Lagos\") & (novaretail[\"CustomerType\"] == \"New\")][\"Revenue\"].sum()\n",
    "lagos_new_revenue"
   ]
  },
  {
   "cell_type": "code",
   "execution_count": 48,
   "id": "ded0b2e5-a66b-48e2-90cf-91d8085db45b",
   "metadata": {},
   "outputs": [
    {
     "data": {
      "text/plain": [
       "np.int64(29521000)"
      ]
     },
     "execution_count": 48,
     "metadata": {},
     "output_type": "execute_result"
    }
   ],
   "source": [
    "#18. Calculate the total revenue excluding transactions from Port Harcourt.\n",
    "novaretail.loc[novaretail[\"City\"]!= (\"port harcourt\"), \"Revenue\"].sum()"
   ]
  },
  {
   "cell_type": "code",
   "execution_count": 29,
   "id": "434d5419-cec1-44a5-873c-12dcf7577c2c",
   "metadata": {},
   "outputs": [
    {
     "data": {
      "text/html": [
       "<div>\n",
       "<style scoped>\n",
       "    .dataframe tbody tr th:only-of-type {\n",
       "        vertical-align: middle;\n",
       "    }\n",
       "\n",
       "    .dataframe tbody tr th {\n",
       "        vertical-align: top;\n",
       "    }\n",
       "\n",
       "    .dataframe thead th {\n",
       "        text-align: right;\n",
       "    }\n",
       "</style>\n",
       "<table border=\"1\" class=\"dataframe\">\n",
       "  <thead>\n",
       "    <tr style=\"text-align: right;\">\n",
       "      <th></th>\n",
       "      <th>TransactionID</th>\n",
       "      <th>UnitsSold</th>\n",
       "    </tr>\n",
       "  </thead>\n",
       "  <tbody>\n",
       "    <tr>\n",
       "      <th>0</th>\n",
       "      <td>T001</td>\n",
       "      <td>2.0</td>\n",
       "    </tr>\n",
       "    <tr>\n",
       "      <th>1</th>\n",
       "      <td>T002</td>\n",
       "      <td>1.0</td>\n",
       "    </tr>\n",
       "    <tr>\n",
       "      <th>2</th>\n",
       "      <td>T003</td>\n",
       "      <td>4.0</td>\n",
       "    </tr>\n",
       "    <tr>\n",
       "      <th>3</th>\n",
       "      <td>T004</td>\n",
       "      <td>1.0</td>\n",
       "    </tr>\n",
       "    <tr>\n",
       "      <th>4</th>\n",
       "      <td>T005</td>\n",
       "      <td>2.0</td>\n",
       "    </tr>\n",
       "    <tr>\n",
       "      <th>...</th>\n",
       "      <td>...</td>\n",
       "      <td>...</td>\n",
       "    </tr>\n",
       "    <tr>\n",
       "      <th>105</th>\n",
       "      <td>T106</td>\n",
       "      <td>2.0</td>\n",
       "    </tr>\n",
       "    <tr>\n",
       "      <th>106</th>\n",
       "      <td>T107</td>\n",
       "      <td>2.0</td>\n",
       "    </tr>\n",
       "    <tr>\n",
       "      <th>107</th>\n",
       "      <td>T108</td>\n",
       "      <td>1.0</td>\n",
       "    </tr>\n",
       "    <tr>\n",
       "      <th>108</th>\n",
       "      <td>T109</td>\n",
       "      <td>2.0</td>\n",
       "    </tr>\n",
       "    <tr>\n",
       "      <th>109</th>\n",
       "      <td>T110</td>\n",
       "      <td>2.0</td>\n",
       "    </tr>\n",
       "  </tbody>\n",
       "</table>\n",
       "<p>110 rows × 2 columns</p>\n",
       "</div>"
      ],
      "text/plain": [
       "    TransactionID  UnitsSold\n",
       "0            T001        2.0\n",
       "1            T002        1.0\n",
       "2            T003        4.0\n",
       "3            T004        1.0\n",
       "4            T005        2.0\n",
       "..            ...        ...\n",
       "105          T106        2.0\n",
       "106          T107        2.0\n",
       "107          T108        1.0\n",
       "108          T109        2.0\n",
       "109          T110        2.0\n",
       "\n",
       "[110 rows x 2 columns]"
      ]
     },
     "execution_count": 29,
     "metadata": {},
     "output_type": "execute_result"
    }
   ],
   "source": [
    "#19. Calculate average units sold per transaction.\n",
    "novaretail.groupby('TransactionID')['UnitsSold'].mean().reset_index()"
   ]
  },
  {
   "cell_type": "code",
   "execution_count": 30,
   "id": "611fa3ab-c032-4c16-a963-2fa26458eb05",
   "metadata": {},
   "outputs": [
    {
     "data": {
      "text/plain": [
       "np.int64(357300)"
      ]
     },
     "execution_count": 30,
     "metadata": {},
     "output_type": "execute_result"
    }
   ],
   "source": [
    "#20. Calculate the total discount value across all sales. \n",
    "total_discount_value =novaretail[\"Discount\"].sum()\n",
    "total_discount_value"
   ]
  },
  {
   "cell_type": "code",
   "execution_count": 31,
   "id": "746c1ba2-cbb5-4ebf-b493-3ccd424b621a",
   "metadata": {},
   "outputs": [
    {
     "data": {
      "image/png": "[encoded data removed]",
      "text/plain": [
       "<Figure size 1000x600 with 1 Axes>"
      ]
     },
     "metadata": {},
     "output_type": "display_data"
    }
   ],
   "source": [
    "#visualization\n",
    "import seaborn as sns\n",
    "\n",
    "# Set the style\n",
    "sns.set_style(\"whitegrid\")\n",
    "\n",
    "# 1. Total Revenue by City \n",
    "city_revenue = novaretail.groupby(\"City\")[\"Revenue\"].sum().reset_index()\n",
    "plt.figure(figsize=(10,6))\n",
    "sns.barplot(x=\"City\", y=\"Revenue\", color=\"purple\", data=city_revenue)\n",
    "plt.title(\"Total Revenue by City\")\n",
    "plt.show()"
   ]
  },
  {
   "cell_type": "code",
   "execution_count": 32,
   "id": "f8b8e4a1-c3c5-4bfa-bd0d-836527fa0269",
   "metadata": {},
   "outputs": [
    {
     "data": {
      "image/png": "[encoded data removed]",
      "text/plain": [
       "<Figure size 800x600 with 1 Axes>"
      ]
     },
     "metadata": {},
     "output_type": "display_data"
    }
   ],
   "source": [
    "# 2. Revenue Split between New and Returning Customers\n",
    "revenue_split_plot = novaretail.groupby(\"CustomerType\")[\"Revenue\"].sum().reset_index()\n",
    "plt.figure(figsize=(8,6))\n",
    "sns.barplot(x=\"CustomerType\", y=\"Revenue\", color=\"purple\", data=revenue_split_plot)\n",
    "plt.title(\"Revenue Split between New and Returning Customers\")\n",
    "plt.show()"
   ]
  },
  {
   "cell_type": "code",
   "execution_count": 33,
   "id": "44e934d3-5402-44e3-b4d2-6541f2c74cc4",
   "metadata": {},
   "outputs": [
    {
     "data": {
      "image/png": "[encoded data removed]",
      "text/plain": [
       "<Figure size 1000x600 with 1 Axes>"
      ]
     },
     "metadata": {},
     "output_type": "display_data"
    }
   ],
   "source": [
    "# 3. Monthly Revenue Trend\n",
    "plt.figure(figsize=(10,6))\n",
    "sns.lineplot(x=\"Date\", y=\"Revenue\", color=\"purple\", data=monthly_revenue_trend)\n",
    "plt.title(\"Monthly Revenue Trend\")\n",
    "plt.show()"
   ]
  },
  {
   "cell_type": "code",
   "execution_count": 34,
   "id": "280a403d-0a3f-4724-91e8-e3714f6ba4e9",
   "metadata": {},
   "outputs": [
    {
     "data": {
      "image/png": "[encoded data removed]",
      "text/plain": [
       "<Figure size 1000x600 with 1 Axes>"
      ]
     },
     "metadata": {},
     "output_type": "display_data"
    }
   ],
   "source": [
    "# 4. Top Product Categories by Revenue\n",
    "top_categories = novaretail.groupby(\"Category\")[\"Revenue\"].sum().reset_index().sort_values(by=\"Revenue\", ascending=False).head(5)\n",
    "plt.figure(figsize=(10,6))\n",
    "sns.barplot(x=\"Category\", y=\"Revenue\", color=\"purple\", data=top_categories)\n",
    "plt.title(\"Top Product Categories by Revenue\")\n",
    "plt.show()"
   ]
  },
  {
   "cell_type": "code",
   "execution_count": 35,
   "id": "186e7886-259e-4164-9d95-370d6ff57572",
   "metadata": {},
   "outputs": [
    {
     "data": {
      "image/png": "[encoded data removed]",
      "text/plain": [
       "<Figure size 1000x600 with 1 Axes>"
      ]
     },
     "metadata": {},
     "output_type": "display_data"
    }
   ],
   "source": [
    "# 5. Sales Rep Performance\n",
    "top_salesreps = novaretail.groupby(\"SalesRep\")[\"Revenue\"].sum().reset_index().sort_values(by=\"Revenue\", ascending=False).head(5)\n",
    "plt.figure(figsize=(10,6))\n",
    "sns.barplot(x=\"SalesRep\", y=\"Revenue\", color=\"purple\", data=top_salesreps)\n",
    "plt.title(\"Top Sales Reps by Revenue\")\n",
    "plt.show()"
   ]
  },
  {
   "cell_type": "code",
   "execution_count": 36,
   "id": "42569986-29ee-4b14-8725-716435f5d72d",
   "metadata": {},
   "outputs": [
    {
     "data": {
      "text/plain": [
       "Text(0.5, 1.0, 'Average Revenue per')"
      ]
     },
     "execution_count": 36,
     "metadata": {},
     "output_type": "execute_result"
    },
    {
     "data": {
      "image/png": "[encoded data removed]",
      "text/plain": [
       "<Figure size 1000x600 with 1 Axes>"
      ]
     },
     "metadata": {},
     "output_type": "display_data"
    }
   ],
   "source": [
    "# 6. Average Revenue per Customer by City\n",
    "avg_revenue_per_customer_city = novaretail.groupby(\"City\")[\"Revenue\"].mean().reset_index()\n",
    "plt.figure(figsize=(10,6))\n",
    "sns.barplot(x=\"City\", y=\"Revenue\", color=\"purple\", data=avg_revenue_per_customer_city)\n",
    "plt.title(\"Average Revenue per\")"
   ]
  },
  {
   "cell_type": "code",
   "execution_count": 37,
   "id": "e4b6ded6-0869-41c6-927e-cdb4dce3a34b",
   "metadata": {
    "scrolled": true
   },
   "outputs": [
    {
     "data": {
      "text/plain": [
       "TransactionID    0\n",
       "Date             0\n",
       "City             0\n",
       "CustomerID       0\n",
       "CustomerType     0\n",
       "Category         0\n",
       "UnitsSold        0\n",
       "UnitPrice        0\n",
       "Revenue          0\n",
       "Discount         0\n",
       "SalesRep         0\n",
       "dtype: int64"
      ]
     },
     "execution_count": 37,
     "metadata": {},
     "output_type": "execute_result"
    }
   ],
   "source": [
    "novaretail.isnull().sum()"
   ]
  },
  {
   "cell_type": "code",
   "execution_count": 42,
   "id": "bd8a20e0-32be-4d89-9132-f28589f9173a",
   "metadata": {},
   "outputs": [],
   "source": [
    "revenue_split=novaretail.groupby(\"CustomerType\")[\"Revenue\"].sum().reset_index()"
   ]
  },
  {
   "cell_type": "code",
   "execution_count": 44,
   "id": "164c0cfa-d78f-4358-ab1e-63c7742296a9",
   "metadata": {},
   "outputs": [
    {
     "data": {
      "text/plain": [
       "<Figure size 1000x800 with 0 Axes>"
      ]
     },
     "metadata": {},
     "output_type": "display_data"
    },
    {
     "data": {
      "image/png": "[encoded data removed]",
      "text/plain": [
       "<Figure size 640x480 with 1 Axes>"
      ]
     },
     "metadata": {},
     "output_type": "display_data"
    }
   ],
   "source": [
    "plt.figure(figsize=(10,8))\n",
    "revenue_split.plot(kind='pie',x='CustomerType',y='Revenue',color=['purple','pink'])\n",
    "plt.title('Revenue Split by Customer Type')\n",
    "plt.xlabel('CustomerType')\n",
    "plt.ylabel('Revenue ($)')\n",
    "plt.xticks(rotation=0)\n",
    "plt.tight_layout()\n",
    "plt.show()"
   ]
  },
  {
   "cell_type": "code",
   "execution_count": null,
   "id": "28888415-30c8-4383-b297-8cda6300b770",
   "metadata": {},
   "outputs": [],
   "source": []
  }
 ],
 "metadata": {
  "kernelspec": {
   "display_name": "Python [conda env:base] *",
   "language": "python",
   "name": "conda-base-py"
  },
  "language_info": {
   "codemirror_mode": {
    "name": "ipython",
    "version": 3
   },
   "file_extension": ".py",
   "mimetype": "text/x-python",
   "name": "python",
   "nbconvert_exporter": "python",
   "pygments_lexer": "ipython3",
   "version": "3.13.5"
  }
 },
 "nbformat": 4,
 "nbformat_minor": 5
}
